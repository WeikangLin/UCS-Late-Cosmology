{
 "cells": [
  {
   "cell_type": "code",
   "execution_count": 1,
   "metadata": {},
   "outputs": [
    {
     "name": "stdout",
     "output_type": "stream",
     "text": [
      "GetDist Version: 1.5.4, Matplotlib version: 3.10.0\n"
     ]
    }
   ],
   "source": [
    "#Show plots inline, and load main getdist plot module and samples class\n",
    "### Need to run the following twice for some unknown reason. Otherwise plot wouldn't show\n",
    "from __future__ import print_function\n",
    "from IPython.display import display, Math\n",
    "import matplotlib\n",
    "%matplotlib inline\n",
    "%config InlineBackend.figure_format = 'retina'\n",
    "import sys, os\n",
    "sys.path.insert(0,os.path.realpath(os.path.join(os.getcwd(),'..')))\n",
    "from getdist import plots, MCSamples, loadMCSamples\n",
    "import getdist, IPython\n",
    "import pylab as plt\n",
    "print('GetDist Version: %s, Matplotlib version: %s'%(getdist.__version__, plt.matplotlib.__version__))\n",
    "#matplotlib 2 doesn't seem to work well without usetex on\n",
    "plt.rcParams['text.usetex']=True\n",
    "import numpy as np\n",
    "import WLbackground_cosmic_stds as BG\n",
    "import scipy.optimize as op\n",
    "import emcee\n",
    "from scipy import integrate\n",
    "import time\n",
    "from matplotlib import ticker, cm, patches, pyplot\n",
    "import pandas as pd"
   ]
  },
  {
   "cell_type": "code",
   "execution_count": 2,
   "metadata": {},
   "outputs": [],
   "source": [
    "def Classifying_Params(Params_Dict):\n",
    "    Params_va = []\n",
    "    Params_fixed = []\n",
    "    for key in Params_Dict.keys():\n",
    "        if len(Params_Dict[key])==1:\n",
    "            Params_fixed.append(key)\n",
    "        else:\n",
    "            Params_va.append(key)\n",
    "    return Params_va, Params_fixed\n",
    "\n",
    "class Parameters:\n",
    "    def __init__(self, Params_Dict): ### !!!!!! keep the parameter in the same order\n",
    "        self.Params_va, self.Params_fixed = Classifying_Params(Params_Dict)\n",
    "        self.Om = Params_Dict['Om'][2] if 'Om' in self.Params_va else Params_Dict['Om'][0]\n",
    "        self.w0 = Params_Dict['w0'][2] if 'w0' in self.Params_va else Params_Dict['w0'][0]\n",
    "        self.wa = Params_Dict['wa'][2] if 'wa' in self.Params_va else Params_Dict['wa'][0]\n",
    "        self.Ok = Params_Dict['Ok'][2] if 'Ok' in self.Params_va else Params_Dict['Ok'][0]\n",
    "        self.rdH0 = Params_Dict['rdH0'][2] if 'rdH0' in self.Params_va else Params_Dict['rdH0'][0]\n",
    "        self.DrH0Om05 = Params_Dict['DrH0Om05'][2] if 'DrH0Om05' in self.Params_va else Params_Dict['DrH0Om05'][0]\n",
    "        self.h = Params_Dict['h'][2] if 'h' in self.Params_va else Params_Dict['h'][0]\n",
    "        self.zstar = Params_Dict['zstar'][2] if 'zstar' in self.Params_va else Params_Dict['zstar'][0]\n",
    "        self.Deltazrec = Params_Dict['Deltazrec'][2] if 'Deltazrec' in self.Params_va else Params_Dict['Deltazrec'][0]\n",
    "        self.Obh2 = Params_Dict['Obh2'][2] if 'Obh2' in self.Params_va else Params_Dict['Obh2'][0]\n",
    "        self.m_v1 = Params_Dict['m_v1'][2] if 'm_v1' in self.Params_va else Params_Dict['m_v1'][0]\n",
    "        self.MH0 = Params_Dict['MH0'][2] if 'MH0' in self.Params_va else Params_Dict['MH0'][0]\n",
    "\n",
    "\n",
    "    def Param_update(self,THETA): \n",
    "        i=0\n",
    "        if 'Om' in self.Params_va: self.Om,i = THETA[i], i+1\n",
    "        if 'w0' in self.Params_va: self.w0,i = THETA[i], i+1\n",
    "        if 'wa' in self.Params_va: self.wa,i = THETA[i], i+1\n",
    "        if 'Ok' in self.Params_va: self.Ok,i = THETA[i], i+1\n",
    "        if 'rdH0' in self.Params_va: self.rdH0, i = THETA[i], i+1\n",
    "        if 'DrH0Om05' in self.Params_va: self.DrH0Om05, i = THETA[i], i+1\n",
    "        if 'h' in self.Params_va: self.h, i = THETA[i], i+1\n",
    "        if 'zstar' in self.Params_va: self.zstar, i = THETA[i], i+1\n",
    "        if 'Deltazrec' in self.Params_va: self.Deltazrec, i = THETA[i], i+1\n",
    "        if 'Obh2' in self.Params_va: self.Obh2, i = THETA[i], i+1\n",
    "        if 'm_v1' in self.Params_va: self.m_v1, i = THETA[i], i+1\n",
    "        if 'MH0' in self.Params_va: self.MH0, i = THETA[i], i+1\n",
    "            \n",
    "def GetMedianStats(samples):\n",
    "    Percentiles = np.percentile(samples, [15.865, 50, 84.135], axis=0)\n",
    "    return Percentiles[1], Percentiles[1]-Percentiles[0], Percentiles[2]-Percentiles[1]\n",
    "\n",
    "\n",
    "\n",
    "def pos_gen(prior):\n",
    "    return max(prior[0],prior[2]-prior[3])+(min(prior[1],prior[2]+prior[3])\n",
    "                                         -max(prior[0],prior[2]-prior[3]))*np.random.randint(0,100)/100\n",
    "    \n",
    "def prior_and_SetParameters(Params_Dict, Vari_Names,theta):\n",
    "    out_of_priors = False\n",
    "    for name, i in zip(Vari_Names,np.arange(len(theta)).tolist()):\n",
    "        if not (Params_Dict[name][0]<=theta[i]<=Params_Dict[name][1]):\n",
    "            out_of_priors = True\n",
    "            return out_of_priors\n",
    "    return out_of_priors\n",
    "    "
   ]
  },
  {
   "cell_type": "code",
   "execution_count": null,
   "metadata": {},
   "outputs": [],
   "source": []
  },
  {
   "cell_type": "code",
   "execution_count": 3,
   "metadata": {},
   "outputs": [],
   "source": [
    "def fC_ode(fC,z, p):\n",
    "    return 1/BG.Ez_KwwaCDM(z,p)  #### change it according to your model here\n",
    "\n",
    "def fM_from_fC(fCs,p):\n",
    "    if p.Ok>0:\n",
    "        fMs = 1./p.Ok**0.5*np.sinh(p.Ok**0.5*fCs)\n",
    "    elif p.Ok<0:\n",
    "        fMs = 1./(-p.Ok)**0.5*np.sin((-p.Ok)**0.5*fCs)\n",
    "    else:\n",
    "        fMs = fCs\n",
    "    return fMs   \n",
    "\n",
    "def zstar_func_Hu1996(p):\n",
    "    Omh2 = p.Om*p.h**2\n",
    "    Obh2 = p.Obh2\n",
    "    g1 = 0.0783*Omh2**(-0.238)/( 1+39.5*Obh2**0.763 )\n",
    "    g2 = 0.560/( 1 + 21.1*Obh2**1.81 )\n",
    "    return 1048*( 1+0.00124*Obh2**(-0.738) )*( 1+g1*Omh2**g2 )\n",
    "\n",
    "def zd_func_Hu1996(p):\n",
    "    Omh2 = p.Om*p.h**2\n",
    "    Obh2 = p.Obh2\n",
    "    b1 = 0.313*Omh2**(-0.419)*( 1 + 0.607*Omh2**0.674 )\n",
    "    b2 = 0.238*Omh2**0.223\n",
    "    return 1345*Omh2**0.251/( 1+0.659*Omh2**0.828 )*( 1+b1*Obh2**b2 )\n",
    "\n",
    "def rH0(p, star_drag=True):\n",
    "    if star_drag:\n",
    "        z_end = zstar_func_Hu1996(p)\n",
    "    else:\n",
    "        z_end = zd_func_Hu1996(p)\n",
    "    nll = lambda *args: BG.sound_horizon_integrand(*args)\n",
    "    temp = integrate.quad(nll, z_end, np.inf, args=(p,))\n",
    "    return temp[0]\n",
    "\n",
    "def rdH0_Brieden(p):\n",
    "    Neff = 3.04\n",
    "    return 147.05*(p.Obh2/0.02236)**(-0.13)*(p.Om*p.h**2/0.1432)**(-0.23)*(Neff/3.04)**(-0.1)/3E3*p.h\n",
    "\n",
    "\n",
    "def lnlike_SN_prefM_Plus(MH0, fMs, PAN,invC, Marg_M): \n",
    "    m_pre = 5*np.log10((1+PAN.zHEL)*fMs)+MH0  \n",
    "    delta = m_pre-PAN.m_b_corr\n",
    "    deltaT = np.transpose(delta)\n",
    "    if Marg_M:\n",
    "        chi2 = np.sum(delta @ invC @ deltaT)\n",
    "        B = np.sum(delta @ invC)\n",
    "        C = np.sum(invC)\n",
    "        chi2 += - (B**2 / C) + np.log(C / (2 * np.pi))\n",
    "    else:\n",
    "        chi2 = np.dot(delta,np.dot(invC,delta))\n",
    "    return -0.5*chi2\n",
    "\n",
    "############### These are for data in one files\n",
    "def Combine_BAO_data(BAO_datasets_file, BAO_list):\n",
    "    df = pd.read_csv(BAO_datasets_file, sep='\\t', na_values='-')\n",
    "    obs = []\n",
    "    TYPEs = []\n",
    "    for bao in BAO_list:\n",
    "        INDEX = df['Tracer'] == bao\n",
    "        zeff = df['zeff'][INDEX]\n",
    "        if np.isnan(df['r_thetad_Deltaz'][INDEX].values[0]):\n",
    "            obs.append(df['fV'][INDEX].values[0])\n",
    "            TYPEs.append(False)\n",
    "        else:\n",
    "            obs += [df['thetad'][INDEX].values[0],df['Deltaz'][INDEX].values[0]]\n",
    "            TYPEs.append(True)\n",
    "    obs = np.array(obs)\n",
    "\n",
    "    count = 0\n",
    "    Cov = np.zeros((len(obs), len(obs)))\n",
    "    for bao in BAO_list:\n",
    "        INDEX = df['Tracer'] == bao\n",
    "        if np.isnan(df['r_thetad_Deltaz'][INDEX].values[0]):\n",
    "            Cov[count,count]=df['fV_err'][INDEX].values[0]**2\n",
    "            count+=1\n",
    "        else:\n",
    "            err1 = df['thetad_err'][INDEX].values[0]\n",
    "            err2 = df['Deltaz_err'][INDEX].values[0]\n",
    "            rho = df['r_thetad_Deltaz'][INDEX].values[0]\n",
    "            Cov[count:count+2,count:count+2] = np.array([[err1**2, err1*err2*rho],[err1*err2*rho, err2**2]])\n",
    "            count+=2\n",
    "    return obs, np.linalg.inv(Cov), TYPEs\n",
    "    # return -0.5*np.dot((pres-obs),np.dot(np.linalg.inv(Cov),(pres-obs)))\n"
   ]
  },
  {
   "cell_type": "code",
   "execution_count": null,
   "metadata": {},
   "outputs": [],
   "source": []
  },
  {
   "cell_type": "code",
   "execution_count": 32,
   "metadata": {},
   "outputs": [],
   "source": [
    "# define UCS likelihood\n",
    "def lnprob_stds_default(THETA,Params_Dict,zs_input,SN_input,BAO_input,CMB_input):\n",
    "    # TIME = time.time()\n",
    "    use_CMBtheta, CMB_means, CMB_invC, Deltazrec_obs, dDeltazrec_obs, EARLY_PRIOR, UCS_simplified = CMB_input\n",
    "    use_SN, SN_data, invC, Marg_M = SN_input   # use fast SN likelihood by default\n",
    "    use_BAO, BAO_obs, invCov_bao, bao_TYPEs = BAO_input\n",
    "\n",
    "    Pall.Param_update(THETA)\n",
    "    \n",
    "    if use_SN:\n",
    "        zs_sn,zs_bao,zs_combined_sorted,index_mapping = zs_input\n",
    "    else:\n",
    "        zs_bao, zs_combined_sorted = zs_input\n",
    "\n",
    "    # priors: \n",
    "    out_of_priors=prior_and_SetParameters(Params_Dict, Pall.Params_va, THETA)\n",
    "    if out_of_priors:\n",
    "        return -np.inf\n",
    "    \n",
    "    lp = 0.0\n",
    "        \n",
    "\n",
    "    if use_CMBtheta:\n",
    "        fCs = integrate.odeint(fC_ode,0,zs_combined_sorted.tolist()+[Pall.zstar], args=(Pall,))\n",
    "        fMs = fM_from_fC(fCs,Pall)    \n",
    "        fM_cmb = fMs[-1]\n",
    "        if EARLY_PRIOR:\n",
    "            rsH0_derived = rH0(Pall, star_drag=True)\n",
    "            theta_pre = rsH0_derived/fM_cmb\n",
    "            CMB_pre = np.array([theta_pre[0], Pall.Obh2, Pall.Om*Pall.h**2])\n",
    "            lp += -0.5*np.dot((CMB_pre-CMB_means),np.dot(CMB_invC,(CMB_pre-CMB_means)))\n",
    "        else:\n",
    "            if UCS_simplified:\n",
    "                lp += -0.5*(Pall.DrH0Om05-3.36E-04)**2/(7E-06)**2\n",
    "                rsH0_derived = Pall.rdH0-Pall.DrH0Om05/Pall.Om**0.5\n",
    "            else:\n",
    "                lp += -0.5*(Pall.Deltazrec-Deltazrec_obs)**2/(dDeltazrec_obs)**2  \n",
    "                lp += -0.5*(Pall.Obh2-0.0222)**2/0.0005**2\n",
    "                rsH0_derived = Pall.rdH0-BG.Delta_rH0(Pall)\n",
    "            theta_pre = rsH0_derived/fM_cmb\n",
    "            lp += -0.5*(theta_pre-CMB_means[0])**2/np.linalg.inv(CMB_invC)[0,0]\n",
    "    else: \n",
    "        fCs = integrate.odeint(fC_ode,0,zs_combined_sorted, args=(Pall,))\n",
    "        fMs = fM_from_fC(fCs,Pall)\n",
    "    # print(time.time()-TIME)\n",
    "    # TIME = time.time()\n",
    "\n",
    "\n",
    "    if use_SN:\n",
    "        fMs_sn = fMs[index_mapping[1:1+len(zs_sn)]][:,0]\n",
    "        lp += lnlike_SN_prefM_Plus(Pall.MH0, fMs_sn, SN_data, invC, Marg_M) \n",
    "        fMs_bao = fMs[index_mapping[1+len(zs_sn):1+len(zs_sn)+len(zs_bao)]][:,0]\n",
    "    else:\n",
    "        fMs_bao = fMs[1:,0]\n",
    "    # print(time.time()-TIME)\n",
    "    # TIME = time.time()\n",
    "\n",
    "    ###### BAO\n",
    "    if EARLY_PRIOR:\n",
    "        rdH0_used = rdH0_Brieden(Pall)\n",
    "    else:\n",
    "        rdH0_used = Pall.rdH0\n",
    "    Es_bao = 1./fC_ode(0,zs_bao, Pall)\n",
    "    pres=[]\n",
    "    for zeff, bao_type, fM_bao, E_bao in zip(zs_bao,bao_TYPEs,fMs_bao,Es_bao):\n",
    "        if bao_type:\n",
    "            pres += [rdH0_used/fM_bao, rdH0_used*E_bao]\n",
    "        else:\n",
    "            pres.append( rdH0_used/(zeff/E_bao*fM_bao**2)**(1/3.0))\n",
    "    pres=np.array(pres)\n",
    "    if use_BAO:\n",
    "        lp += -0.5*np.dot((pres-BAO_obs),np.dot(invCov_bao,(pres-BAO_obs)))\n",
    "    # print(time.time()-TIME)\n",
    "    # TIME = time.time()\n",
    "\n",
    "    return lp\n",
    "\n",
    "\n",
    "\n"
   ]
  },
  {
   "cell_type": "code",
   "execution_count": 93,
   "metadata": {},
   "outputs": [
    {
     "name": "stderr",
     "output_type": "stream",
     "text": [
      "<>:67: SyntaxWarning: invalid escape sequence '\\O'\n",
      "<>:89: SyntaxWarning: invalid escape sequence '\\D'\n",
      "<>:92: SyntaxWarning: invalid escape sequence '\\O'\n",
      "<>:95: SyntaxWarning: invalid escape sequence '\\D'\n",
      "<>:67: SyntaxWarning: invalid escape sequence '\\O'\n",
      "<>:89: SyntaxWarning: invalid escape sequence '\\D'\n",
      "<>:92: SyntaxWarning: invalid escape sequence '\\O'\n",
      "<>:95: SyntaxWarning: invalid escape sequence '\\D'\n",
      "/var/folders/x1/5y4cxtfd0hs3nc_h1v1pydk40000gn/T/ipykernel_91273/2922786515.py:67: SyntaxWarning: invalid escape sequence '\\O'\n",
      "  Params_Dict['Om']=[0.01, 0.99, 0.3, 0.003, '\\Omega_{m}']\n",
      "/var/folders/x1/5y4cxtfd0hs3nc_h1v1pydk40000gn/T/ipykernel_91273/2922786515.py:89: SyntaxWarning: invalid escape sequence '\\D'\n",
      "  Params_Dict['DrH0Om05'] = [2.5E-4, 4.5E-4, 3.36E-4, 0.01E-4, '\\Delta rH_0\\sqrt{\\Omega_m}']\n",
      "/var/folders/x1/5y4cxtfd0hs3nc_h1v1pydk40000gn/T/ipykernel_91273/2922786515.py:92: SyntaxWarning: invalid escape sequence '\\O'\n",
      "  Params_Dict['Obh2']=[0.01,0.04,0.0222,0.0002, '\\Omega_{b}h^2']\n",
      "/var/folders/x1/5y4cxtfd0hs3nc_h1v1pydk40000gn/T/ipykernel_91273/2922786515.py:95: SyntaxWarning: invalid escape sequence '\\D'\n",
      "  Params_Dict['Deltazrec']=[20,40, 30,0.3, '\\Delta z_{rec}']\n"
     ]
    }
   ],
   "source": [
    "####### Settings:\n",
    "\n",
    "#### Specify the BAO input:\n",
    "# Choose to include '6df','DR7_MGS','DR12_consensus','DR16_LRG_ELG','DR14_qsar','DR14_lya_qsar'\n",
    "# and DESI: 'BGS','LRG1','LRG2','LRG3+ELG1','ELG2','QSO','Lya-QSO'\n",
    "\n",
    "\n",
    "\n",
    "use_BAO = True\n",
    "BAO_DATA='DESI2025'\n",
    "BAO_file = './BAO_data/'+BAO_DATA+'/BAO_DESI2025.txt'\n",
    "BAO_list = ['BGS','LRG1','LRG2','LRG3+ELG1','ELG2','QSO','Lya']\n",
    "zs_bao=[]\n",
    "df_BAO = pd.read_csv(BAO_file, sep='\\t', na_values='-')\n",
    "zs_bao = df_BAO['zeff'].values.tolist()\n",
    "BAO_obs, invCov_bao, bao_TYPEs = Combine_BAO_data(BAO_file, BAO_list)\n",
    "BAO_input= [use_BAO, BAO_obs, invCov_bao, bao_TYPEs]\n",
    "\n",
    "\n",
    "\n",
    "#### CMB input:\n",
    "use_CMBtheta = True\n",
    "EARLY_PRIOR = False\n",
    "UCS_simplified = True\n",
    "if EARLY_PRIOR and UCS_simplified:\n",
    "    print('EARLY_PRIOR and UCS_simplified cannot be both true')\n",
    "CMB_means = np.loadtxt('CMB_theta/Planck_theta_means.txt') \n",
    "CMB_Cov = np.loadtxt('CMB_theta/Planck_theta_Cov.txt')\n",
    "if EARLY_PRIOR:\n",
    "    CMB_means = np.loadtxt('CMB_theta/Planck_summary_DESI_reproduced.txt') \n",
    "    CMB_Cov = np.loadtxt('CMB_theta/Planck_summary_DESI_reproduced_Cov.txt')\n",
    "CMB_invC = np.linalg.inv(CMB_Cov)\n",
    "Deltaz=3.0265623E+01\n",
    "dDeltaz=5.7356211E-01\n",
    "CMB_input=[use_CMBtheta,CMB_means,CMB_invC,Deltaz,dDeltaz,EARLY_PRIOR,UCS_simplified]\n",
    "### END CMB input\n",
    "\n",
    "\n",
    "#### load the SN data:\n",
    "use_SN = True\n",
    "SN_DATA = 'DESY5'\n",
    "if SN_DATA == 'PanPlus':\n",
    "    SN_path='./PantheonPlus/Pantheon+SH0ES_sort.dat'\n",
    "    SN_StatSys=np.loadtxt(\"./PantheonPlus/Pantheon+SH0ES_STAT+SYS_sort.cov\")   # systematic errors\n",
    "elif SN_DATA == 'DESY5':\n",
    "    SN_path='./DES-SN5YR-main/4_DISTANCES_COVMAT/DES-SN5YR_HD+MetaData_sort.dat'\n",
    "    SN_StatSys=np.loadtxt(\"./DES-SN5YR-main/4_DISTANCES_COVMAT/STAT+SYS_sort.cov\")   # systematic errors\n",
    "elif SN_DATA == 'Union3':\n",
    "    SN_path='./union3_release-main/Union3_converted.dat'\n",
    "    SN_StatSys=np.loadtxt(\"./union3_release-main/Union3.cov\")   # systematic errors\n",
    "else:\n",
    "    print('SN data no match!')\n",
    "SN_measurements = pd.read_csv(SN_path, sep=\" \", header=0)\n",
    "Index = (SN_measurements['zHD']>0.01) & (SN_measurements['zHD']<10)\n",
    "SN_measurements = SN_measurements[Index]\n",
    "C_SN = SN_StatSys    # # including systematic errors\n",
    "C_SN = C_SN[Index].T[Index] ### select zHD>0.01\n",
    "Marg_M = False\n",
    "\n",
    "invC_SN = np.linalg.inv(C_SN)\n",
    "SN_input=[use_SN,SN_measurements,invC_SN,Marg_M]\n",
    "#### End loading the SN data\n",
    "\n",
    "\n",
    "###### Parameter settings:\n",
    "Params_Dict = { }        # parameter name, min, max, mean, expected error, label\n",
    "Params_Dict['Om']=[0.01, 0.99, 0.3, 0.003, '\\Omega_{m}']\n",
    "Params_Dict['w0']= [-3, 1, -1, 0.1, 'w_0']\n",
    "Params_Dict['wa']= [-3, 2, 0., 0.1, 'w_a']\n",
    "Params_Dict['Ok']= [0]#[-0.3, 0.3, 0., 0.005, '\\Omega_{K}']\n",
    "Params_Dict['rdH0']=[0.033] #[0.01,0.1, 0.033,0.0003,'r_dH_0']\n",
    "Params_Dict['DrH0Om05'] = [3.36E-4]   \n",
    "Params_Dict['h'] = [0.6764] #[0.2,1.0,0.7,0.02,'h']\n",
    "Params_Dict['zstar']=[1089]\n",
    "Params_Dict['Deltazrec']=[30]\n",
    "Params_Dict['Obh2']=[0.0222]\n",
    "Params_Dict['MH0']=[23.8]\n",
    "Params_Dict['m_v1']=[0]\n",
    "\n",
    "\n",
    "\n",
    "if use_BAO:\n",
    "    if not EARLY_PRIOR:\n",
    "        Params_Dict['rdH0']=[0.01,0.1, 0.0338,0.0003,'r_dH_0']\n",
    "        \n",
    "\n",
    "if use_CMBtheta:\n",
    "    if UCS_simplified:\n",
    "        Params_Dict['DrH0Om05'] = [2.5E-4, 4.5E-4, 3.36E-4, 0.01E-4, '\\Delta rH_0\\sqrt{\\Omega_m}']\n",
    "    else:\n",
    "        Params_Dict['h']=[0.55,0.88, 0.7, 0.007, 'h']\n",
    "        Params_Dict['Obh2']=[0.01,0.04,0.0222,0.0002, '\\Omega_{b}h^2']\n",
    "        if not EARLY_PRIOR:\n",
    "            Params_Dict['zstar']=[1070,1120, 1089,5, 'z_*']\n",
    "            Params_Dict['Deltazrec']=[20,40, 30,0.3, '\\Delta z_{rec}']\n",
    "        \n",
    "\n",
    "if use_SN:\n",
    "     Params_Dict['MH0']=[17,30, 23.81,0.2,'MH0']\n",
    "\n",
    "#####\n",
    "Pall = Parameters(Params_Dict)\n",
    "#####\n",
    "        \n",
    "\n",
    "#### setting z array, \n",
    "if use_SN == True:\n",
    "    zs_bao_sorted = np.sort(zs_bao)\n",
    "    zs_sn=SN_measurements['zHD'].values.tolist()    # needs zHD for PanPlus, zcmb for Pan\n",
    "    zs_combined=np.array([0]+zs_sn+zs_bao)\n",
    "    zs_combined_sorted=np.sort(zs_combined)\n",
    "    index_sort = np.argsort(zs_combined)\n",
    "    index_mapping=np.argsort(index_sort)\n",
    "    redshifts_input=[zs_sn,zs_bao_sorted,zs_combined_sorted,index_mapping]\n",
    "else:\n",
    "    zs_bao_sorted = np.sort(zs_bao)\n",
    "    zs_combined=np.array([0]+zs_bao)\n",
    "    redshifts_input=[zs_bao_sorted, zs_combined]\n",
    "\n"
   ]
  },
  {
   "cell_type": "code",
   "execution_count": null,
   "metadata": {},
   "outputs": [],
   "source": []
  },
  {
   "cell_type": "code",
   "execution_count": 94,
   "metadata": {},
   "outputs": [
    {
     "name": "stdout",
     "output_type": "stream",
     "text": [
      "./chains_DESI2025/raw_chains_simplified/Results_BAO-DESI2025_CMB-Smp_SN-DESY5_w0waCDM\n"
     ]
    }
   ],
   "source": [
    "#### Specify the output name prefix\n",
    "PATH = './chains_DESI2025/raw_chains_simplified/'\n",
    "save_chain_name = 'Results_'\n",
    "if use_BAO:\n",
    "    save_chain_name+='BAO-'+BAO_DATA\n",
    "if use_CMBtheta:\n",
    "    save_chain_name+='_CMB'\n",
    "    if EARLY_PRIOR:\n",
    "        save_chain_name+='-EarlyPr'\n",
    "    if UCS_simplified:\n",
    "        save_chain_name+='-Smp'\n",
    "if use_SN:\n",
    "    save_chain_name+='_SN-'+SN_DATA\n",
    "EX_prefix = '_w0waCDM'\n",
    "save_chain_name+=EX_prefix\n",
    "save_chain_file=PATH+save_chain_name\n",
    "#### END specifying the output name\n",
    "print(save_chain_file)"
   ]
  },
  {
   "cell_type": "code",
   "execution_count": 101,
   "metadata": {},
   "outputs": [
    {
     "name": "stdout",
     "output_type": "stream",
     "text": [
      "['Om', 'w0', 'wa', 'rdH0', 'DrH0Om05', 'MH0']\n"
     ]
    },
    {
     "data": {
      "text/plain": [
       "array([-2047.39483782])"
      ]
     },
     "execution_count": 101,
     "metadata": {},
     "output_type": "execute_result"
    }
   ],
   "source": [
    "p_va, p_fixed = Classifying_Params(Params_Dict)\n",
    "pos=[[pos_gen(Params_Dict[key]) for key in p_va] for i in range(32)]\n",
    "print(Pall.Params_va)\n",
    "# print(rH0(Pall, star_drag=False))\n",
    "# print(rdH0_Brieden(Pall))\n",
    "lnprob_stds_default(pos[0],Params_Dict,redshifts_input,SN_input,BAO_input,CMB_input)"
   ]
  },
  {
   "cell_type": "code",
   "execution_count": 96,
   "metadata": {},
   "outputs": [
    {
     "name": "stderr",
     "output_type": "stream",
     "text": [
      "100%|█████████████████████████████████████| 10000/10000 [22:40<00:00,  7.35it/s]\n"
     ]
    }
   ],
   "source": [
    "# Run the MCMC\n",
    "\n",
    "p_va, p_fixed = Classifying_Params(Params_Dict)\n",
    "ndim, nwalkers, nstep = len(p_va), 64, 10000  # settings for emcee\n",
    "\n",
    "\n",
    "# The following is to run MCMC:\n",
    "# initial position\n",
    "\n",
    "pos=[[pos_gen(Params_Dict[key]) for key in p_va] for i in range(nwalkers)]\n",
    "\n",
    "\n",
    "sampler_combined=emcee.EnsembleSampler(nwalkers, ndim, lnprob_stds_default, \n",
    "                                       args=(Params_Dict,redshifts_input,SN_input,BAO_input,CMB_input))\n",
    "\n",
    "\n",
    "sampler_combined.run_mcmc(pos, nstep, progress=True,);\n",
    "sampler_dict = {\n",
    "    'chain': sampler_combined.chain,\n",
    "    'log_prob': sampler_combined.lnprobability,\n",
    "    'blobs': sampler_combined.blobs,\n",
    "    'state': sampler_combined.random_state,\n",
    "}\n",
    "\n",
    "# Save to .npy file\n",
    "np.save(save_chain_file+'.npy', sampler_dict, allow_pickle=True)\n",
    "np.save(PATH+'/Params_Priors/'+save_chain_name+'_ParamDict.npy', Params_Dict) "
   ]
  },
  {
   "cell_type": "code",
   "execution_count": null,
   "metadata": {},
   "outputs": [],
   "source": []
  },
  {
   "cell_type": "code",
   "execution_count": 97,
   "metadata": {},
   "outputs": [
    {
     "name": "stdout",
     "output_type": "stream",
     "text": [
      "Removed no burn in\n"
     ]
    },
    {
     "data": {
      "image/png": "[encoded data removed]",
      "text/plain": [
       "<Figure size 500x500 with 1 Axes>"
      ]
     },
     "metadata": {
      "image/png": {
       "height": 490,
       "width": 490
      }
     },
     "output_type": "display_data"
    },
    {
     "data": {
      "text/latex": [
       "$\\displaystyle \\Omega_{m} = { 0.31557}^{+ 0.00619}_{- 0.00621}$"
      ],
      "text/plain": [
       "<IPython.core.display.Math object>"
      ]
     },
     "metadata": {},
     "output_type": "display_data"
    },
    {
     "data": {
      "text/latex": [
       "$\\displaystyle w_0 = {-0.79040}^{+ 0.06378}_{- 0.06362}$"
      ],
      "text/plain": [
       "<IPython.core.display.Math object>"
      ]
     },
     "metadata": {},
     "output_type": "display_data"
    },
    {
     "data": {
      "text/latex": [
       "$\\displaystyle w_a = {-0.61403}^{+ 0.28553}_{- 0.29553}$"
      ],
      "text/plain": [
       "<IPython.core.display.Math object>"
      ]
     },
     "metadata": {},
     "output_type": "display_data"
    },
    {
     "data": {
      "text/latex": [
       "$\\displaystyle r_dH_0 = { 0.03285}^{+ 0.00029}_{- 0.00028}$"
      ],
      "text/plain": [
       "<IPython.core.display.Math object>"
      ]
     },
     "metadata": {},
     "output_type": "display_data"
    },
    {
     "data": {
      "text/latex": [
       "$\\displaystyle \\Delta rH_0\\sqrt{\\Omega_m} = { 0.00034}^{+ 0.00001}_{- 0.00001}$"
      ],
      "text/plain": [
       "<IPython.core.display.Math object>"
      ]
     },
     "metadata": {},
     "output_type": "display_data"
    },
    {
     "data": {
      "text/latex": [
       "$\\displaystyle MH0 = { 23.69654}^{+ 0.01329}_{- 0.01334}$"
      ],
      "text/plain": [
       "<IPython.core.display.Math object>"
      ]
     },
     "metadata": {},
     "output_type": "display_data"
    }
   ],
   "source": [
    "#### Plot the result:\n",
    "g = plots.getSinglePlotter(width_inch=5, ratio=1)\n",
    "\n",
    "#### Specify the chain to plot:\n",
    "load_chain_file=save_chain_file+'.npy'\n",
    "sampler = np.load(load_chain_file, allow_pickle=True).item()\n",
    "\n",
    "#### Load the chain:\n",
    "\n",
    "samples = sampler['chain'][:, :, :].reshape((-1, len(Pall.Params_va)))   #filter out first XXX rows\n",
    "\n",
    "#### Axis labels for the parameters\n",
    "MCsamples = MCSamples(samples=samples,names = Pall.Params_va, \n",
    "                      labels=[Params_Dict[key][-1] for key in Pall.Params_va],\n",
    "                      ranges={ key: Params_Dict[key][0:2] \n",
    "                              for key in Pall.Params_va },ignore_rows=0)\n",
    "g.plot_2d(MCsamples, 'w0', 'wa',filled=True)\n",
    "plt.axvline(x=-1, ls=':', color='k')\n",
    "plt.axhline(y=0, ls=':', color='k')\n",
    "# g.export('figures_DESI2025/Pan/w0-wa_UCS_EarlyPrior.pdf')\n",
    "plt.show()\n",
    "# print(MCsamples.getMargeStats())\n",
    "\n",
    "Medians, Lows, Ups = GetMedianStats(samples)\n",
    "# print('Median+upper-lower:')\n",
    "# display median + upper -lower of C\n",
    "for median, low, up, PARAM in zip(Medians, Lows, Ups, Pall.Params_va):\n",
    "    txt = \"{3} = {{{0: 2.5f}}}^{{+{2: .5f}}}_{{-{1: .5f}}}\"\n",
    "    txt = txt.format(median, low, up, Params_Dict[PARAM][-1])\n",
    "    display(Math(txt))"
   ]
  },
  {
   "cell_type": "code",
   "execution_count": null,
   "metadata": {},
   "outputs": [],
   "source": []
  },
  {
   "cell_type": "code",
   "execution_count": null,
   "metadata": {},
   "outputs": [],
   "source": []
  },
  {
   "cell_type": "code",
   "execution_count": null,
   "metadata": {},
   "outputs": [],
   "source": []
  },
  {
   "cell_type": "code",
   "execution_count": null,
   "metadata": {},
   "outputs": [],
   "source": []
  },
  {
   "cell_type": "code",
   "execution_count": null,
   "metadata": {},
   "outputs": [],
   "source": []
  },
  {
   "cell_type": "code",
   "execution_count": null,
   "metadata": {},
   "outputs": [],
   "source": []
  },
  {
   "cell_type": "code",
   "execution_count": null,
   "metadata": {},
   "outputs": [],
   "source": []
  },
  {
   "cell_type": "code",
   "execution_count": null,
   "metadata": {},
   "outputs": [],
   "source": []
  },
  {
   "cell_type": "code",
   "execution_count": null,
   "metadata": {},
   "outputs": [],
   "source": []
  },
  {
   "cell_type": "code",
   "execution_count": null,
   "metadata": {},
   "outputs": [],
   "source": []
  }
 ],
 "metadata": {
  "kernelspec": {
   "display_name": "Python 3 (ipykernel)",
   "language": "python",
   "name": "python3"
  },
  "language_info": {
   "codemirror_mode": {
    "name": "ipython",
    "version": 3
   },
   "file_extension": ".py",
   "mimetype": "text/x-python",
   "name": "python",
   "nbconvert_exporter": "python",
   "pygments_lexer": "ipython3",
   "version": "3.12.7"
  }
 },
 "nbformat": 4,
 "nbformat_minor": 4
}
